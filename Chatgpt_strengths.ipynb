{
  "nbformat": 4,
  "nbformat_minor": 0,
  "metadata": {
    "colab": {
      "provenance": []
    },
    "kernelspec": {
      "name": "python3",
      "display_name": "Python 3"
    },
    "language_info": {
      "name": "python"
    }
  },
  "cells": [
    {
      "cell_type": "markdown",
      "source": [
        "# **Strengths of ChatGPT**\n"
      ],
      "metadata": {
        "id": "wpJS8Ak5f7dA"
      }
    },
    {
      "cell_type": "markdown",
      "source": [
        "# **1 Summarizing**\n",
        "\n",
        "# **2.Infering**\n",
        "\n",
        "# **3.Transforming**\n",
        "\n",
        "# **4.Expanding**\n",
        "\n"
      ],
      "metadata": {
        "id": "RGq3g0cpWjSw"
      }
    },
    {
      "cell_type": "code",
      "execution_count": null,
      "metadata": {
        "id": "tRkEWY30We-D",
        "colab": {
          "base_uri": "https://localhost:8080/"
        },
        "outputId": "3f530832-9b2a-4c92-9e1b-f558077282e9"
      },
      "outputs": [
        {
          "output_type": "stream",
          "name": "stdout",
          "text": [
            "Collecting openai\n",
            "  Downloading openai-0.27.8-py3-none-any.whl (73 kB)\n",
            "\u001b[?25l     \u001b[90m━━━━━━━━━━━━━━━━━━━━━━━━━━━━━━━━━━━━━━━━\u001b[0m \u001b[32m0.0/73.6 kB\u001b[0m \u001b[31m?\u001b[0m eta \u001b[36m-:--:--\u001b[0m\r\u001b[2K     \u001b[91m━━━━━━━━━━━━━━━━━━━━━━━━━━━━━━━━━\u001b[0m\u001b[90m╺\u001b[0m\u001b[90m━━━━━━\u001b[0m \u001b[32m61.4/73.6 kB\u001b[0m \u001b[31m1.7 MB/s\u001b[0m eta \u001b[36m0:00:01\u001b[0m\r\u001b[2K     \u001b[90m━━━━━━━━━━━━━━━━━━━━━━━━━━━━━━━━━━━━━━━━\u001b[0m \u001b[32m73.6/73.6 kB\u001b[0m \u001b[31m1.5 MB/s\u001b[0m eta \u001b[36m0:00:00\u001b[0m\n",
            "\u001b[?25hRequirement already satisfied: requests>=2.20 in /usr/local/lib/python3.10/dist-packages (from openai) (2.31.0)\n",
            "Requirement already satisfied: tqdm in /usr/local/lib/python3.10/dist-packages (from openai) (4.66.1)\n",
            "Requirement already satisfied: aiohttp in /usr/local/lib/python3.10/dist-packages (from openai) (3.8.5)\n",
            "Requirement already satisfied: charset-normalizer<4,>=2 in /usr/local/lib/python3.10/dist-packages (from requests>=2.20->openai) (3.2.0)\n",
            "Requirement already satisfied: idna<4,>=2.5 in /usr/local/lib/python3.10/dist-packages (from requests>=2.20->openai) (3.4)\n",
            "Requirement already satisfied: urllib3<3,>=1.21.1 in /usr/local/lib/python3.10/dist-packages (from requests>=2.20->openai) (2.0.4)\n",
            "Requirement already satisfied: certifi>=2017.4.17 in /usr/local/lib/python3.10/dist-packages (from requests>=2.20->openai) (2023.7.22)\n",
            "Requirement already satisfied: attrs>=17.3.0 in /usr/local/lib/python3.10/dist-packages (from aiohttp->openai) (23.1.0)\n",
            "Requirement already satisfied: multidict<7.0,>=4.5 in /usr/local/lib/python3.10/dist-packages (from aiohttp->openai) (6.0.4)\n",
            "Requirement already satisfied: async-timeout<5.0,>=4.0.0a3 in /usr/local/lib/python3.10/dist-packages (from aiohttp->openai) (4.0.3)\n",
            "Requirement already satisfied: yarl<2.0,>=1.0 in /usr/local/lib/python3.10/dist-packages (from aiohttp->openai) (1.9.2)\n",
            "Requirement already satisfied: frozenlist>=1.1.1 in /usr/local/lib/python3.10/dist-packages (from aiohttp->openai) (1.4.0)\n",
            "Requirement already satisfied: aiosignal>=1.1.2 in /usr/local/lib/python3.10/dist-packages (from aiohttp->openai) (1.3.1)\n",
            "Installing collected packages: openai\n",
            "Successfully installed openai-0.27.8\n"
          ]
        }
      ],
      "source": [
        "!pip install openai\n"
      ]
    },
    {
      "cell_type": "code",
      "source": [
        "import openai"
      ],
      "metadata": {
        "id": "R57cGZEwXevs"
      },
      "execution_count": null,
      "outputs": []
    },
    {
      "cell_type": "code",
      "source": [
        "openai.api_key=\"xxxxxxxxxxxxxxxxxxxxxxxxxxxxxxxxxxxxxxxxxxxx\" #Use your API key here"
      ],
      "metadata": {
        "id": "Pk6NWkFUXezJ"
      },
      "execution_count": null,
      "outputs": []
    },
    {
      "cell_type": "code",
      "source": [
        "def talk(prompt,model='gpt-3.5-turbo',temperature=0):\n",
        "  messages=[{'role':'user','content':prompt}]\n",
        "  response=openai.ChatCompletion.create(\n",
        "      model=model,\n",
        "      messages=messages,\n",
        "      temperature=temperature\n",
        "  )\n",
        "  #return response\n",
        "  return response.choices[0].message['content']\n",
        "\n"
      ],
      "metadata": {
        "id": "7FzD4O8aXe6l"
      },
      "execution_count": null,
      "outputs": []
    },
    {
      "cell_type": "code",
      "source": [
        "prompt=\"hi, who are you\"\n",
        "prompt\n",
        "result=talk(prompt)\n",
        "result\n",
        "\n",
        "\n"
      ],
      "metadata": {
        "colab": {
          "base_uri": "https://localhost:8080/",
          "height": 35
        },
        "id": "j1equ8l0Xe-r",
        "outputId": "1e48f753-f039-4478-8496-08b3ade013ba"
      },
      "execution_count": null,
      "outputs": [
        {
          "output_type": "execute_result",
          "data": {
            "text/plain": [
              "'Hello! I am an AI language model developed by OpenAI. I am here to assist you with any questions or tasks you may have. How can I help you today?'"
            ],
            "application/vnd.google.colaboratory.intrinsic+json": {
              "type": "string"
            }
          },
          "metadata": {},
          "execution_count": 5
        }
      ]
    },
    {
      "cell_type": "markdown",
      "source": [
        "#**Summarization**"
      ],
      "metadata": {
        "id": "BsyGD5HFdFPu"
      }
    },
    {
      "cell_type": "markdown",
      "source": [
        "# **1.**"
      ],
      "metadata": {
        "id": "vvk8LMOs47tF"
      }
    },
    {
      "cell_type": "code",
      "source": [
        "delimiter=\"'''\"\n",
        "def summarize(content):\n",
        "  prompt=f\"\"\"Summarize the content within the {delimiter} into 5 bullet points\n",
        "  {delimiter}{content}{delimiter}\n",
        "\"\"\"\n",
        "  result=talk(prompt)\n",
        "  return result\n"
      ],
      "metadata": {
        "id": "M2RlKxlGXfH9"
      },
      "execution_count": null,
      "outputs": []
    },
    {
      "cell_type": "code",
      "source": [
        "content=\"\"\"Independence Day is celebrated annually on 15 August as a public holiday in India commemorating the nation's independence from the United Kingdom on 15 August 1947, the day when the provisions of the Indian Independence Act, which transferred legislative sovereignty to the Indian Constituent Assembly, came into effect. India retained King George VI as head of state until its transition to a republic, when the Constitution of India came into effect on 26 January 1950 (celebrated as Indian Republic Day) and replaced the dominion prefix, Dominion of India, with the enactment of the sovereign law Constitution of India. India attained independence following the independence movement noted for largely non-violent resistance and civil disobedience led by Indian National Congress under the leadership of Mahatma Gandhi.\n",
        "\n",
        "Independence coincided with the partition of India, in which British India was divided into the Dominions of India and Pakistan; the partition was accompanied by violent riots and mass casualties, and the displacement of nearly 15 million people due to religious violence. On 15 August 1947, the first Prime Minister of India, Jawaharlal Nehru raised the Indian national flag above the Lahori Gate of the Red Fort in Delhi. On each subsequent Independence Day, the incumbent Prime Minister customarily raises the flag and gives an address to the nation.[1] The entire event is broadcast by Doordarshan, India's national broadcaster, and usually begins with the shehnai music of Ustad Bismillah Khan. Independence Day is observed throughout India with flag-hoisting ceremonies, parades and cultural events. It is a national holiday\"\"\"\n",
        "result=summarize(content)\n",
        "print(result)\n"
      ],
      "metadata": {
        "id": "EeuUVkkPXfK-",
        "colab": {
          "base_uri": "https://localhost:8080/"
        },
        "outputId": "859c6cc0-06d3-4543-9f1c-973a7d274a27"
      },
      "execution_count": null,
      "outputs": [
        {
          "output_type": "stream",
          "name": "stdout",
          "text": [
            "- Independence Day is celebrated annually on 15 August in India.\n",
            "- It commemorates India's independence from the United Kingdom in 1947.\n",
            "- The Indian Independence Act transferred legislative sovereignty to the Indian Constituent Assembly.\n",
            "- India retained King George VI as head of state until becoming a republic in 1950.\n",
            "- Independence Day is observed with flag-hoisting ceremonies, parades, and cultural events.\n"
          ]
        }
      ]
    },
    {
      "cell_type": "markdown",
      "source": [
        "# **2.**"
      ],
      "metadata": {
        "id": "WJrvNiQx49-A"
      }
    },
    {
      "cell_type": "code",
      "source": [
        "content=\"\"\"Mohandas Karamchand Gandhi[pron 1] (2 October 1869 – 30 January 1948) was an Indian lawyer, anti-colonial nationalist and political ethicist who employed nonviolent resistance to lead the successful campaign for India's independence from British rule. He inspired movements for civil rights and freedom across the world. The honorific Mahātmā (from Sanskrit 'great-souled, venerable'), first applied to him in South Africa in 1914, is now used throughout the world.\n",
        "\n",
        "Born and raised in a Hindu family in coastal Gujarat, Gandhi trained in the law at the Inner Temple, London, and was called to the bar at age 22 in June 1891. After two uncertain years in India, where he was unable to start a successful law practice, he moved to South Africa in 1893 to represent an Indian merchant in a lawsuit. He went on to live in South Africa for 21 years. It was here that Gandhi raised a family and first employed nonviolent resistance in a campaign for civil rights. In 1915, aged 45, he returned to India and soon set about organising peasants, farmers, and urban labourers to protest against excessive land-tax and discrimination.\n",
        "\n",
        "Assuming leadership of the Indian National Congress in 1921, Gandhi led nationwide campaigns for easing poverty, expanding women's rights, building religious and ethnic amity, ending untouchability, and, above all, achieving swaraj or self-rule. Gandhi adopted the short dhoti woven with hand-spun yarn as a mark of identification with India's rural poor. He began to live in a self-sufficient residential community, to eat simple food, and undertake long fasts as a means of both introspection and political protest. Bringing anti-colonial nationalism to the common Indians, Gandhi led them in challenging the British-imposed salt tax with the 400 km (250 mi) Dandi Salt March in 1930 and in calling for the British to quit India in 1942. He was imprisoned many times and for many years in both South Africa and India.\n",
        "\n",
        "Gandhi's vision of an independent India based on religious pluralism was challenged in the early 1940s by a Muslim nationalism which demanded a separate homeland for Muslims within British India. In August 1947, Britain granted independence, but the British Indian Empire was partitioned into two dominions, a Hindu-majority India and a Muslim-majority Pakistan. As many displaced Hindus, Muslims, and Sikhs made their way to their new lands, religious violence broke out, especially in the Punjab and Bengal. Abstaining from the official celebration of independence, Gandhi visited the affected areas, attempting to alleviate distress. In the months following, he undertook several hunger strikes to stop the religious violence. The last of these was begun in Delhi on 12 January 1948 when he was 78. The belief that Gandhi had been too resolute in his defense of both Pakistan and Indian Muslims spread among some Hindus in India. Among these was Nathuram Godse, a militant Hindu nationalist from Pune, western India, who assassinated Gandhi by firing three bullets into his chest at an interfaith prayer meeting in Delhi on 30 January 1948. Gandhi's birthday, 2 October, is commemorated in India as Gandhi Jayanti, a national holiday, and worldwide as the International Day of Nonviolence. Gandhi is considered to be the Father of the Nation in post-colonial India. During India's nationalist movement and in several decades immediately after, he was also commonly called Bapu (Gujarati endearment for \"father,\" roughly \"papa,\"[2] \"daddy.\"[3])\"\"\"\n",
        "result=summarize(content)\n",
        "print(result)"
      ],
      "metadata": {
        "id": "d-VZT5iyXfOt",
        "colab": {
          "base_uri": "https://localhost:8080/"
        },
        "outputId": "6713c0bb-4d43-4f80-8282-697e0ecf0cd9"
      },
      "execution_count": null,
      "outputs": [
        {
          "output_type": "stream",
          "name": "stdout",
          "text": [
            "- Mohandas Karamchand Gandhi was an Indian lawyer and political leader who used nonviolent resistance to lead India to independence from British rule.\n",
            "- Gandhi inspired civil rights movements and freedom movements around the world.\n",
            "- He was born and raised in a Hindu family in Gujarat, India, and trained in law in London before moving to South Africa.\n",
            "- In South Africa, Gandhi employed nonviolent resistance in a campaign for civil rights and lived there for 21 years.\n",
            "- Gandhi returned to India in 1915 and became the leader of the Indian National Congress, leading campaigns for poverty alleviation, women's rights, religious harmony, and self-rule.\n"
          ]
        }
      ]
    },
    {
      "cell_type": "markdown",
      "source": [
        "# **3.**"
      ],
      "metadata": {
        "id": "U-wSPKHU5AF4"
      }
    },
    {
      "cell_type": "code",
      "source": [
        "def summarize1(content):\n",
        "  prompt=f\"\"\"summarize the total content present with in {delimiter} into one paragraph\n",
        "  {delimiter}{content}{delimiter}\n",
        "  \"\"\"\n",
        "  result=talk(prompt)\n",
        "  return result"
      ],
      "metadata": {
        "id": "X9e1ydVvXfSV"
      },
      "execution_count": null,
      "outputs": []
    },
    {
      "cell_type": "code",
      "source": [
        "content=\"\"\"Mohandas Karamchand Gandhi[pron 1] (2 October 1869 – 30 January 1948) was an Indian lawyer, anti-colonial nationalist and political ethicist who employed nonviolent resistance to lead the successful campaign for India's independence from British rule. He inspired movements for civil rights and freedom across the world. The honorific Mahātmā (from Sanskrit 'great-souled, venerable'), first applied to him in South Africa in 1914, is now used throughout the world.\n",
        "\n",
        "Born and raised in a Hindu family in coastal Gujarat, Gandhi trained in the law at the Inner Temple, London, and was called to the bar at age 22 in June 1891. After two uncertain years in India, where he was unable to start a successful law practice, he moved to South Africa in 1893 to represent an Indian merchant in a lawsuit. He went on to live in South Africa for 21 years. It was here that Gandhi raised a family and first employed nonviolent resistance in a campaign for civil rights. In 1915, aged 45, he returned to India and soon set about organising peasants, farmers, and urban labourers to protest against excessive land-tax and discrimination.\n",
        "\n",
        "Assuming leadership of the Indian National Congress in 1921, Gandhi led nationwide campaigns for easing poverty, expanding women's rights, building religious and ethnic amity, ending untouchability, and, above all, achieving swaraj or self-rule. Gandhi adopted the short dhoti woven with hand-spun yarn as a mark of identification with India's rural poor. He began to live in a self-sufficient residential community, to eat simple food, and undertake long fasts as a means of both introspection and political protest. Bringing anti-colonial nationalism to the common Indians, Gandhi led them in challenging the British-imposed salt tax with the 400 km (250 mi) Dandi Salt March in 1930 and in calling for the British to quit India in 1942. He was imprisoned many times and for many years in both South Africa and India.\n",
        "\n",
        "Gandhi's vision of an independent India based on religious pluralism was challenged in the early 1940s by a Muslim nationalism which demanded a separate homeland for Muslims within British India. In August 1947, Britain granted independence, but the British Indian Empire was partitioned into two dominions, a Hindu-majority India and a Muslim-majority Pakistan. As many displaced Hindus, Muslims, and Sikhs made their way to their new lands, religious violence broke out, especially in the Punjab and Bengal. Abstaining from the official celebration of independence, Gandhi visited the affected areas, attempting to alleviate distress. In the months following, he undertook several hunger strikes to stop the religious violence. The last of these was begun in Delhi on 12 January 1948 when he was 78. The belief that Gandhi had been too resolute in his defense of both Pakistan and Indian Muslims spread among some Hindus in India. Among these was Nathuram Godse, a militant Hindu nationalist from Pune, western India, who assassinated Gandhi by firing three bullets into his chest at an interfaith prayer meeting in Delhi on 30 January 1948. Gandhi's birthday, 2 October, is commemorated in India as Gandhi Jayanti, a national holiday, and worldwide as the International Day of Nonviolence. Gandhi is considered to be the Father of the Nation in post-colonial India. During India's nationalist movement and in several decades immediately after, he was also commonly called Bapu (Gujarati endearment for \"father,\" roughly \"papa,\"[2] \"daddy.\"[3]).\"\"\"\n",
        "result=summarize1(content)\n",
        "result"
      ],
      "metadata": {
        "id": "LSXJzPEEXfVW",
        "colab": {
          "base_uri": "https://localhost:8080/",
          "height": 140
        },
        "outputId": "b0282ec4-493a-414d-e3e0-a7a6ba45203f"
      },
      "execution_count": null,
      "outputs": [
        {
          "output_type": "execute_result",
          "data": {
            "text/plain": [
              "\"Mohandas Karamchand Gandhi, also known as Mahatma Gandhi, was an Indian lawyer and political leader who played a crucial role in India's fight for independence from British rule. He advocated for nonviolent resistance and inspired movements for civil rights and freedom worldwide. Gandhi was born in Gujarat, India, and trained as a lawyer in London. After facing difficulties in establishing a law practice in India, he moved to South Africa where he first employed nonviolent resistance in a campaign for civil rights. In 1915, he returned to India and became the leader of the Indian National Congress, leading campaigns for poverty alleviation, women's rights, religious harmony, and self-rule. Gandhi was imprisoned multiple times and undertook hunger strikes to protest against religious violence. He was assassinated in 1948 by a Hindu nationalist who disagreed with his support for Muslims. Gandhi is revered as the Father of the Nation in India and his birthday is celebrated as a national holiday.\""
            ],
            "application/vnd.google.colaboratory.intrinsic+json": {
              "type": "string"
            }
          },
          "metadata": {},
          "execution_count": 10
        }
      ]
    },
    {
      "cell_type": "markdown",
      "source": [
        "# **4.**"
      ],
      "metadata": {
        "id": "4JzC7d3K5GLz"
      }
    },
    {
      "cell_type": "code",
      "source": [
        "content=\"\"\"https://www.gsmarena.com/samsung_galaxy_s24_and_s24_to_adopt_a_flat_design-news-59605.php\"\"\""
      ],
      "metadata": {
        "id": "wdoEJpQZXfdJ"
      },
      "execution_count": null,
      "outputs": []
    },
    {
      "cell_type": "code",
      "source": [
        "def summarize1(content):\n",
        "  prompt=f\"\"\"summarize the  content present with in {delimiter} into 5 bullet points\n",
        "  {delimiter}{content}{delimiter}\n",
        "  \"\"\"\n",
        "  result=talk(prompt)\n",
        "  return result\n",
        "\n"
      ],
      "metadata": {
        "id": "BVkzxbO937qo"
      },
      "execution_count": null,
      "outputs": []
    },
    {
      "cell_type": "code",
      "source": [
        "result=summarize1(content)\n",
        "print(result)"
      ],
      "metadata": {
        "colab": {
          "base_uri": "https://localhost:8080/"
        },
        "id": "YLy_1wp74Nwx",
        "outputId": "fe047b33-74c4-4d26-c271-3e68c47bcf6b"
      },
      "execution_count": null,
      "outputs": [
        {
          "output_type": "stream",
          "name": "stdout",
          "text": [
            "- Samsung Galaxy S24 and S24+ will feature a flat design, moving away from the curved display design of previous models.\n",
            "- The decision to adopt a flat design is aimed at reducing production costs and making the devices more affordable.\n",
            "- The flat design is expected to appeal to users who prefer a more traditional and ergonomic feel.\n",
            "- The upcoming Galaxy S24 series is rumored to come with improved camera capabilities and powerful processors.\n",
            "- Samsung is likely to launch the Galaxy S24 and S24+ in early 2023.\n"
          ]
        }
      ]
    },
    {
      "cell_type": "markdown",
      "source": [
        "# **5.**"
      ],
      "metadata": {
        "id": "EsaHbu8n5vgN"
      }
    },
    {
      "cell_type": "code",
      "source": [
        "content=\"https://youtu.be/-X9ymqNGNOU\""
      ],
      "metadata": {
        "id": "3WuJAZ3S5xjF"
      },
      "execution_count": null,
      "outputs": []
    },
    {
      "cell_type": "code",
      "source": [
        "\n",
        "def summarize(content):\n",
        "  prompt=f\"\"\" Summarize the contents present in the {delimiter} into 5 Bullet points\n",
        "  {delimiter}{content}{delimiter}\n",
        "  \"\"\"\n",
        "  result=talk(prompt)\n",
        "  return result\n"
      ],
      "metadata": {
        "id": "VWpRIWuN5xrA"
      },
      "execution_count": null,
      "outputs": []
    },
    {
      "cell_type": "code",
      "source": [
        "res=summarize(content)\n",
        "print(res)"
      ],
      "metadata": {
        "colab": {
          "base_uri": "https://localhost:8080/"
        },
        "id": "kaIV03aV6a6v",
        "outputId": "2b67e7af-d264-490a-f80c-35c2581b4962"
      },
      "execution_count": null,
      "outputs": [
        {
          "output_type": "stream",
          "name": "stdout",
          "text": [
            "- The video is about the benefits of intermittent fasting.\n",
            "- It explains that intermittent fasting can help with weight loss by reducing calorie intake and increasing fat burning.\n",
            "- The video discusses how intermittent fasting can improve insulin sensitivity and lower the risk of type 2 diabetes.\n",
            "- It mentions that intermittent fasting may have anti-aging effects and improve brain health.\n",
            "- The video concludes by stating that intermittent fasting is a flexible and sustainable approach to eating that can have numerous health benefits.\n"
          ]
        }
      ]
    },
    {
      "cell_type": "markdown",
      "source": [
        "## **6.**"
      ],
      "metadata": {
        "id": "jcRuqaf47QV3"
      }
    },
    {
      "cell_type": "code",
      "source": [
        "content=\"https://www.w3schools.com/python/python_strings.asp\"\n",
        "res=summarize(content)\n",
        "print(res)"
      ],
      "metadata": {
        "colab": {
          "base_uri": "https://localhost:8080/"
        },
        "id": "HFJGm5FU6_Xm",
        "outputId": "ebdef7b2-a6b6-431e-d01c-0c06e1b14e83"
      },
      "execution_count": null,
      "outputs": [
        {
          "output_type": "stream",
          "name": "stdout",
          "text": [
            "- The webpage provides an introduction to Python strings and their importance in programming.\n",
            "- It explains how to create strings in Python using single quotes, double quotes, or triple quotes.\n",
            "- The webpage covers various string methods and functions available in Python, such as len(), lower(), upper(), strip(), etc.\n",
            "- It demonstrates how to concatenate strings using the + operator and how to format strings using placeholders.\n",
            "- The webpage also includes examples and exercises to practice string manipulation in Python.\n"
          ]
        }
      ]
    },
    {
      "cell_type": "markdown",
      "source": [
        "# **7.**"
      ],
      "metadata": {
        "id": "7F7F9PFf-a5-"
      }
    },
    {
      "cell_type": "code",
      "source": [
        "prompt= \"Summarize the given link into 5 bullet points https://indtoday.com/man-injured-in-a-explosion-in-musheerabad/\"\"\"\n",
        "res=talk(prompt)\n",
        "print(res)"
      ],
      "metadata": {
        "colab": {
          "base_uri": "https://localhost:8080/"
        },
        "id": "YS_u4LOs6_eP",
        "outputId": "fb8d86ab-82c3-4820-973e-f95829351a55"
      },
      "execution_count": null,
      "outputs": [
        {
          "output_type": "stream",
          "name": "stdout",
          "text": [
            "- A man was injured in an explosion that occurred in the Musheerabad area.\n",
            "- The explosion took place in a residential area, causing panic among the residents.\n",
            "- The injured man was immediately rushed to a nearby hospital for medical treatment.\n",
            "- The cause of the explosion is still unknown and is under investigation by the authorities.\n",
            "- The incident has raised concerns about the safety and security of the local residents.\n"
          ]
        }
      ]
    },
    {
      "cell_type": "markdown",
      "source": [
        "# **8.**"
      ],
      "metadata": {
        "id": "GuvEvpyQ_Trf"
      }
    },
    {
      "cell_type": "code",
      "source": [
        "prompt=\"\"\"Summarize the content present in the ''' into five bullet points\n",
        "'''New Delhi: Hours after asserting that Rahul Gandhi would \"definitely\" contest the 2024 Lok Sabha polls from Amethi, Uttar Pradesh Congress chief Ajay Rai appeared to qualify his statement and said this was the demand of the people of the constituency. Mr Rai was named the state Congress president yesterday.\n",
        "Answering a reporter's question earlier in the day, the new state chief said, \"Rahul Gandhi will definitely contest the Lok Sabha election from Amethi, the people of Amethi are here.\"\n",
        "\n",
        "When he was asked the same question hours later, however, Mr Rai's answer was a little different. \"The Congress workers and people of Amethi are demanding that they want to correct their mistake and ensure a huge victory for Rahul Gandhi,\" he said.\n",
        "\n",
        " and asked whether Mr Gandhi wanted to contest from the seat, he reiterated, \"This is the demand of the people and the workers.\"\n",
        "\n",
        "In a huge upset, Mr Gandhi, who had been elected as an MP from the family bastion of Amethi thrice since 2004, had lost to the BJP's Smriti Irani in 2019. He had contested from Wayanad in Kerala as well, and won by a big margin.\n",
        "\n",
        "Mr Rai claimed the people of Amethi are now upset. \"Smriti Irani had promised them sugar at ₹ 13 a kg if they voted for her and the BJP. They are now wondering where that sugar went.\"\n",
        "\n",
        "Earlier in the day, Mr Rai - who had contested unsuccessfully against Prime Minister Narendra Modi in Varanasi in the 2014 and 2019 Lok Sabha Polls - had also said, \"If Priyanka Gandhi says she wishes to contest from Varanasi, every single worker will work wholeheartedly for her.'''\n",
        "\"\"\"\n",
        "res=talk(prompt)\n",
        "print(res)\n",
        "\n",
        "\n"
      ],
      "metadata": {
        "colab": {
          "base_uri": "https://localhost:8080/"
        },
        "id": "sRf8kT-k6_rU",
        "outputId": "a0a2c34b-82b8-4c94-c727-ef282ec81a98"
      },
      "execution_count": null,
      "outputs": [
        {
          "output_type": "stream",
          "name": "stdout",
          "text": [
            "- Uttar Pradesh Congress chief Ajay Rai asserts that Rahul Gandhi will \"definitely\" contest the 2024 Lok Sabha polls from Amethi.\n",
            "- Rai later qualifies his statement, saying that this is the demand of the people of Amethi.\n",
            "- Rai claims that the people of Amethi are upset with Smriti Irani, who defeated Rahul Gandhi in the 2019 elections.\n",
            "- Rai mentions that the people of Amethi are demanding to correct their mistake and ensure a huge victory for Rahul Gandhi.\n",
            "- Rai also mentions that if Priyanka Gandhi wishes to contest from Varanasi, the workers will support her wholeheartedly.\n"
          ]
        }
      ]
    },
    {
      "cell_type": "markdown",
      "source": [
        "# **9.**"
      ],
      "metadata": {
        "id": "JiAZAlBpBwaX"
      }
    },
    {
      "cell_type": "code",
      "source": [
        "\n",
        "def summarize(content):\n",
        "  prompt=f\"\"\"Summarize the content present in the {delimiter} into one line i.e 5 to 6 words\n",
        "  {delimiter}{content}{delimiter}\n",
        "  \"\"\"\n",
        "  res=talk(prompt)\n",
        "  return res"
      ],
      "metadata": {
        "id": "rxUHKQkuBvG8"
      },
      "execution_count": null,
      "outputs": []
    },
    {
      "cell_type": "code",
      "source": [
        "content=\"\"\"One person was seriously injured in an explosion at a scrap yard in Musheerabad on Saturday afternoon.\n",
        "\n",
        "The victim Ghouseuddin, who works at the scrap yard, was shifting some material when he laid his hands on a small box in which some liquid substances were stored.\n",
        "\n",
        "“We suspect Ghouseuddin tried to open the box or forcefully threw it down in the premises when there was an explosion.  We suspect some chemical or paint was stored in the box and it exploded due to a reaction said Musheerabad Inspector E. Jahangeer Yadav.  The injured man is shifted to Gandhi Hospital where he is undergoing treatment.\n",
        "\n",
        "On information, the police rushed to the spot.  A clues team also visited the spot and conducted an examination.  A case is registered\"\"\"\n",
        "res=summarize(content)\n",
        "print(res)"
      ],
      "metadata": {
        "colab": {
          "base_uri": "https://localhost:8080/"
        },
        "id": "9J4jABjU6_w8",
        "outputId": "a1b86d09-a156-466c-8b63-a26c2495dddf"
      },
      "execution_count": null,
      "outputs": [
        {
          "output_type": "stream",
          "name": "stdout",
          "text": [
            "One injured in explosion at scrap yard.\n"
          ]
        }
      ]
    },
    {
      "cell_type": "markdown",
      "source": [
        "# ***Infering***"
      ],
      "metadata": {
        "id": "GLqjoqSvDIYU"
      }
    },
    {
      "cell_type": "markdown",
      "source": [
        "# **1.**"
      ],
      "metadata": {
        "id": "XWW8988zGRly"
      }
    },
    {
      "cell_type": "code",
      "source": [
        "def review(content):\n",
        "  prompt=f\"\"\"give me the sentiment present in the {delimiter}.\n",
        "  if the content is positive then print positive otherwise print negative.\n",
        "  print positive or negative only dont print any extra stuff with it.\n",
        "\n",
        "  {delimiter}{content}{delimiter}\n",
        "  \"\"\"\n",
        "  res=talk(prompt,temperature=1)\n",
        "  return res"
      ],
      "metadata": {
        "id": "yo1ouUgVDFTZ"
      },
      "execution_count": null,
      "outputs": []
    },
    {
      "cell_type": "code",
      "source": [
        "content=\"\"\"worst product.. feels just like a toy.. seriously don't ever buy this.. Fan is better compare to this.\"\"\"\n",
        "res=review(content)\n",
        "print(res)"
      ],
      "metadata": {
        "colab": {
          "base_uri": "https://localhost:8080/"
        },
        "id": "w2kbFzgQDFXX",
        "outputId": "4cdc7440-8df0-45e6-8681-6ff564c211cd"
      },
      "execution_count": null,
      "outputs": [
        {
          "output_type": "stream",
          "name": "stdout",
          "text": [
            "negative\n"
          ]
        }
      ]
    },
    {
      "cell_type": "code",
      "source": [
        "content=\"\"\"Economical and worth buying this product.. very gd product.. value for money.. thanks\"\"\"\n",
        "res=review(content)\n",
        "print(res)"
      ],
      "metadata": {
        "colab": {
          "base_uri": "https://localhost:8080/"
        },
        "id": "466D3pAwDFfV",
        "outputId": "f713822b-b3fd-4ae8-ceda-a9a42b054285"
      },
      "execution_count": null,
      "outputs": [
        {
          "output_type": "stream",
          "name": "stdout",
          "text": [
            "positive\n"
          ]
        }
      ]
    },
    {
      "cell_type": "markdown",
      "source": [
        "#**2.**"
      ],
      "metadata": {
        "id": "BHwEs0gHGTpL"
      }
    },
    {
      "cell_type": "code",
      "source": [
        "def review(content):\n",
        "  prompt=f\"\"\"give me the sentiment present in the {delimiter}\n",
        "  the output should be in json format\n",
        "  {delimiter}{content}{delimiter}\n",
        "  \"\"\"\n",
        "  res=talk(prompt,temperature=0)\n",
        "  return res\n"
      ],
      "metadata": {
        "id": "7AUVn84uDFlh"
      },
      "execution_count": null,
      "outputs": []
    },
    {
      "cell_type": "code",
      "source": [
        "content=\"\"\"One of the worst quality screen protector. Just don't buy this one. Never never\"\"\"\n",
        "res=review(content)\n",
        "print(res)"
      ],
      "metadata": {
        "colab": {
          "base_uri": "https://localhost:8080/"
        },
        "id": "kPEgbVbsDFqA",
        "outputId": "1122ee0e-3d15-4740-f883-91b0f645465b"
      },
      "execution_count": null,
      "outputs": [
        {
          "output_type": "stream",
          "name": "stdout",
          "text": [
            "{\n",
            "  \"sentiment\": \"negative\"\n",
            "}\n"
          ]
        }
      ]
    },
    {
      "cell_type": "markdown",
      "source": [
        "# **3.**"
      ],
      "metadata": {
        "id": "NaAO-kHcDdde"
      }
    },
    {
      "cell_type": "code",
      "source": [
        "def review(content):\n",
        "  prompt=f\"\"\"give me the sentiment present in the {delimiter}\n",
        "  the result should be only in html format.dont print any other stuff print only in Html format.\n",
        "  {delimiter}{content}{delimiter}\n",
        "  \"\"\"\n",
        "  res=talk(prompt,temperature=0)\n",
        "  return res"
      ],
      "metadata": {
        "id": "Is9gJQa7DFt5"
      },
      "execution_count": null,
      "outputs": []
    },
    {
      "cell_type": "code",
      "source": [
        "content=\"\"\"I did not like the product. The key travel is more and the keyboard feedback is not up to the mark . Also, I have to still gain speed on this keyboard because of the odd placement of the keys.\"\"\"\n",
        "res=review(content)\n",
        "print(res)"
      ],
      "metadata": {
        "colab": {
          "base_uri": "https://localhost:8080/"
        },
        "id": "ssgkfxcdDFxg",
        "outputId": "0092eb91-af4c-4703-865d-84609474699e"
      },
      "execution_count": null,
      "outputs": [
        {
          "output_type": "stream",
          "name": "stdout",
          "text": [
            "<div>\n",
            "  <p>Sentiment: Negative</p>\n",
            "</div>\n"
          ]
        }
      ]
    },
    {
      "cell_type": "markdown",
      "source": [
        "# **4.**"
      ],
      "metadata": {
        "id": "SG5eb74oMl1a"
      }
    },
    {
      "cell_type": "code",
      "source": [
        "def review(content):\n",
        "  prompt=f\"\"\"give the sentiment of the content present in the {delimiter}.\n",
        "  if the content is positive then print Happy otherwise print sad.\n",
        "  dont print any extra stuff with it\n",
        "  {delimiter}{content}{delimiter}\n",
        "  \"\"\"\n",
        "  res=talk(prompt)\n",
        "  return res"
      ],
      "metadata": {
        "id": "7D9jNBnRKKuO"
      },
      "execution_count": null,
      "outputs": []
    },
    {
      "cell_type": "code",
      "source": [
        "content=\"\"\"It might seem crazy what I am 'bout to say\n",
        "Sunshine, she's here, you can take a break\n",
        "I'm a hot air balloon that could go to space\n",
        "With the air, like I don't care, baby by the way\"\"\"\n",
        "res=review(content)\n",
        "print(res)"
      ],
      "metadata": {
        "colab": {
          "base_uri": "https://localhost:8080/"
        },
        "id": "6gLiuxhmKKyZ",
        "outputId": "73cc36c0-97b4-48d2-e8ca-ad714ec2396d"
      },
      "execution_count": null,
      "outputs": [
        {
          "output_type": "stream",
          "name": "stdout",
          "text": [
            "Happy\n"
          ]
        }
      ]
    },
    {
      "cell_type": "code",
      "source": [
        "content=\"\"\"You and I\n",
        "We're like witch and symphonies exploding in the sky\n",
        "With you, I'm dead body\n",
        "you are horrible person, make me feel sad\n",
        "'Cause I don't ever wanna look into your eyes\"\"\"\n",
        "res=review(content)\n",
        "print(res)"
      ],
      "metadata": {
        "colab": {
          "base_uri": "https://localhost:8080/"
        },
        "id": "vwsB435-KK4M",
        "outputId": "ec137c23-78e0-4270-83a4-90cc78ac15ca"
      },
      "execution_count": null,
      "outputs": [
        {
          "output_type": "stream",
          "name": "stdout",
          "text": [
            "Sad\n"
          ]
        }
      ]
    },
    {
      "cell_type": "markdown",
      "source": [
        "# **5.**"
      ],
      "metadata": {
        "id": "rR8kWRVgDP6N"
      }
    },
    {
      "cell_type": "code",
      "source": [
        "def review(content):\n",
        "  prompt=f\"\"\"give the sentiment of the content present in the {delimiter}.\n",
        "  if the content is positive then print GOOD otherwise print BAD and also mention the reason with it.\n",
        "  {delimiter}{content}{delimiter}\n",
        "  \"\"\"\n",
        "  res=talk(prompt)\n",
        "  return res"
      ],
      "metadata": {
        "id": "f_lrkp3wKK8c"
      },
      "execution_count": null,
      "outputs": []
    },
    {
      "cell_type": "code",
      "source": [
        "\n",
        "content=\"worst boy,dirty fellow,shamless creature.mindless person.characterless person\"\n",
        "res=review(content)\n",
        "print(res)"
      ],
      "metadata": {
        "colab": {
          "base_uri": "https://localhost:8080/"
        },
        "id": "de8_OkHiKLGX",
        "outputId": "916ed2eb-28d7-46a7-c27a-6bd9cdd8381b"
      },
      "execution_count": null,
      "outputs": [
        {
          "output_type": "stream",
          "name": "stdout",
          "text": [
            "BAD - The content is negative because it contains derogatory terms and insults towards someone.\n"
          ]
        }
      ]
    },
    {
      "cell_type": "code",
      "source": [
        "content=\"best person, good character.pure gold like character.Amazing Personality\"\n",
        "res=review(content)\n",
        "print(res)"
      ],
      "metadata": {
        "colab": {
          "base_uri": "https://localhost:8080/"
        },
        "id": "f4bUF9CTKLKX",
        "outputId": "879fcc63-dae2-4d09-dbc5-2b67b071f663"
      },
      "execution_count": null,
      "outputs": [
        {
          "output_type": "stream",
          "name": "stdout",
          "text": [
            "GOOD\n",
            "\n",
            "Reason: The content contains positive words such as \"best person,\" \"good character,\" \"pure gold like character,\" and \"Amazing Personality.\" These words indicate a positive sentiment towards the person being described.\n"
          ]
        }
      ]
    },
    {
      "cell_type": "markdown",
      "source": [
        "# **Transforming**"
      ],
      "metadata": {
        "id": "0bHENslHVS_x"
      }
    },
    {
      "cell_type": "markdown",
      "source": [
        "# **1.**"
      ],
      "metadata": {
        "id": "9eXJOWqWDpA0"
      }
    },
    {
      "cell_type": "code",
      "source": [
        "text=\"me gone out to ate birjani and biryain was very tusty\"\n",
        "prompt=f\"\"\"correct the sentence present in {delimiter}\n",
        "{delimiter}{text}{delimiter}\n",
        "\"\"\"\n",
        "result=talk(prompt)\n",
        "result"
      ],
      "metadata": {
        "id": "aXU0H0hkVOxK",
        "colab": {
          "base_uri": "https://localhost:8080/",
          "height": 35
        },
        "outputId": "01c2b6cb-a1fd-4852-e270-af8f841b4c78"
      },
      "execution_count": null,
      "outputs": [
        {
          "output_type": "execute_result",
          "data": {
            "text/plain": [
              "'I went out to eat biryani and it was very tasty.'"
            ],
            "application/vnd.google.colaboratory.intrinsic+json": {
              "type": "string"
            }
          },
          "metadata": {},
          "execution_count": 78
        }
      ]
    },
    {
      "cell_type": "markdown",
      "source": [
        "# **2.**"
      ],
      "metadata": {
        "id": "1IZAT0CvDsyF"
      }
    },
    {
      "cell_type": "code",
      "source": [
        "text=\"i go today morning to pincic with my famly\"\n",
        "prompt=f\"\"\"correct the sentence present in {delimiter}\n",
        "{delimiter}{text}{delimiter}\n",
        "\"\"\"\n",
        "result=talk(prompt)\n",
        "result"
      ],
      "metadata": {
        "id": "YRoPxqsrVO42",
        "colab": {
          "base_uri": "https://localhost:8080/",
          "height": 35
        },
        "outputId": "3cb77d06-4c39-4d53-dda4-7e38808a85e2"
      },
      "execution_count": null,
      "outputs": [
        {
          "output_type": "execute_result",
          "data": {
            "text/plain": [
              "'I am going to the picnic this morning with my family.'"
            ],
            "application/vnd.google.colaboratory.intrinsic+json": {
              "type": "string"
            }
          },
          "metadata": {},
          "execution_count": 79
        }
      ]
    },
    {
      "cell_type": "markdown",
      "source": [
        "# **3.**"
      ],
      "metadata": {
        "id": "gqDIcQrWDwQ_"
      }
    },
    {
      "cell_type": "code",
      "source": [
        "text=\" mine good playe cricket btu noot godo fotball\"\n",
        "prompt=f\"\"\"correct the sentence present in {delimiter}\n",
        "{delimiter}{text}{delimiter}\n",
        "\"\"\"\n",
        "result=talk(prompt)\n",
        "result"
      ],
      "metadata": {
        "id": "txr2xzNKVO-g",
        "colab": {
          "base_uri": "https://localhost:8080/",
          "height": 35
        },
        "outputId": "4a97292f-5f91-4d26-8428-69cc1be74c04"
      },
      "execution_count": null,
      "outputs": [
        {
          "output_type": "execute_result",
          "data": {
            "text/plain": [
              "'I am a good cricket player but not good at football.'"
            ],
            "application/vnd.google.colaboratory.intrinsic+json": {
              "type": "string"
            }
          },
          "metadata": {},
          "execution_count": 80
        }
      ]
    },
    {
      "cell_type": "markdown",
      "source": [
        "# **4.**"
      ],
      "metadata": {
        "id": "NcDcjYuiD0HY"
      }
    },
    {
      "cell_type": "code",
      "source": [
        "text=\"sun is blcak in the nihgt nd whiet in teh mornugdhdv\"\n",
        "prompt=f\"\"\"correct the sentence present in {delimiter}\n",
        "{delimiter}{text}{delimiter}\n",
        "\"\"\"\n",
        "result=talk(prompt)\n",
        "result"
      ],
      "metadata": {
        "id": "d5kk1ix3VPFZ",
        "colab": {
          "base_uri": "https://localhost:8080/",
          "height": 35
        },
        "outputId": "1856fc20-36bd-4cb9-a9d8-716e63b6ed0b"
      },
      "execution_count": null,
      "outputs": [
        {
          "output_type": "execute_result",
          "data": {
            "text/plain": [
              "'The corrected sentence is: \"The sun is black in the night and white in the morning.\"'"
            ],
            "application/vnd.google.colaboratory.intrinsic+json": {
              "type": "string"
            }
          },
          "metadata": {},
          "execution_count": 83
        }
      ]
    },
    {
      "cell_type": "markdown",
      "source": [
        "# **5.**"
      ],
      "metadata": {
        "id": "9imNtpGVD26N"
      }
    },
    {
      "cell_type": "code",
      "source": [
        "text=\".bkie broek becaysse accdiuent had meeh\"\n",
        "prompt=f\"\"\"correct the sentence present in {delimiter}\n",
        "{delimiter}{text}{delimiter}\n",
        "\"\"\"\n",
        "result=talk(prompt)\n",
        "result"
      ],
      "metadata": {
        "id": "y0HqSZTQVPLT",
        "colab": {
          "base_uri": "https://localhost:8080/",
          "height": 35
        },
        "outputId": "d7d3eeed-03ab-424b-d974-43d4a470eae0"
      },
      "execution_count": null,
      "outputs": [
        {
          "output_type": "execute_result",
          "data": {
            "text/plain": [
              "'Corrected sentence: \"I broke my bike because an accident happened to me.\"'"
            ],
            "application/vnd.google.colaboratory.intrinsic+json": {
              "type": "string"
            }
          },
          "metadata": {},
          "execution_count": 21
        }
      ]
    },
    {
      "cell_type": "markdown",
      "source": [
        "# **6.**"
      ],
      "metadata": {
        "id": "Udabtip8D6Ky"
      }
    },
    {
      "cell_type": "code",
      "source": [
        "text=\"good morning,how are you\"\n",
        "prompt=f\"\"\"Convert the content present in the {delimiter} from English language to Hindi language\n",
        "{delimiter}{text}{delimiter}\n",
        "\"\"\"\n",
        "res=talk(prompt)\n",
        "print(res)"
      ],
      "metadata": {
        "id": "ft0SGPuzVPUC",
        "colab": {
          "base_uri": "https://localhost:8080/"
        },
        "outputId": "63c53d14-fe0e-49c0-da69-e6c4f9dd81de"
      },
      "execution_count": null,
      "outputs": [
        {
          "output_type": "stream",
          "name": "stdout",
          "text": [
            "सुप्रभात, आप कैसे हैं?\n"
          ]
        }
      ]
    },
    {
      "cell_type": "markdown",
      "source": [
        "# **7.**"
      ],
      "metadata": {
        "id": "Xfa73GR4D9r0"
      }
    },
    {
      "cell_type": "code",
      "source": [
        "text=\"सुप्रभात, आप कैसे हैं?\"\n",
        "prompt=f\"\"\"Convert the content present in the {delimiter} from Hindi language to English language\n",
        "{delimiter}{text}{delimiter}\n",
        "\"\"\"\n",
        "res=talk(prompt)\n",
        "print(res)"
      ],
      "metadata": {
        "id": "dTQpkHmiVPx6",
        "colab": {
          "base_uri": "https://localhost:8080/"
        },
        "outputId": "1ab23ef1-9bd7-4f5d-94ff-f2af1096040b"
      },
      "execution_count": null,
      "outputs": [
        {
          "output_type": "stream",
          "name": "stdout",
          "text": [
            "\"Good morning, how are you?\"\n"
          ]
        }
      ]
    },
    {
      "cell_type": "markdown",
      "source": [
        "# **Expanding**"
      ],
      "metadata": {
        "id": "iME-lDYYGD11"
      }
    },
    {
      "cell_type": "markdown",
      "source": [
        "# **1.**"
      ],
      "metadata": {
        "id": "tTLEXXCCHwdw"
      }
    },
    {
      "cell_type": "code",
      "source": [
        "prompt=\"\"\" Write a letter to the principal for asking a leave from school\"\"\"\n",
        "res=talk(prompt)\n",
        "print(res)"
      ],
      "metadata": {
        "id": "vH4HwzwVVQzi",
        "colab": {
          "base_uri": "https://localhost:8080/"
        },
        "outputId": "076801df-a54f-4cf2-dbda-6129863945eb"
      },
      "execution_count": null,
      "outputs": [
        {
          "output_type": "stream",
          "name": "stdout",
          "text": [
            "[Your Name]\n",
            "[Your Address]\n",
            "[City, State, ZIP]\n",
            "[Email Address]\n",
            "[Phone Number]\n",
            "[Date]\n",
            "\n",
            "[Principal's Name]\n",
            "[School Name]\n",
            "[School Address]\n",
            "[City, State, ZIP]\n",
            "\n",
            "Subject: Request for Leave of Absence\n",
            "\n",
            "Dear [Principal's Name],\n",
            "\n",
            "I hope this letter finds you in good health and high spirits. I am writing to formally request a leave of absence from [School Name] for a specific period of time. I apologize for any inconvenience this may cause and assure you that I will make every effort to minimize disruption to my studies.\n",
            "\n",
            "The reason for my leave is [state the reason for your leave, such as a family emergency, medical condition, or personal matter]. Due to the nature of this situation, it is imperative that I take some time off from school to address and resolve the matter effectively. I understand the importance of regular attendance and the impact it has on my academic progress, but I believe that this leave is necessary for my overall well-being and ability to focus on my studies in the future.\n",
            "\n",
            "I kindly request a leave of absence starting from [start date] and ending on [end date]. This period covers a total of [number of days] school days. I will ensure that I complete any pending assignments or coursework before my departure, and I will make arrangements with my teachers to catch up on missed lessons and assignments upon my return.\n",
            "\n",
            "I understand that it is the school's policy to require a written request for a leave of absence, and I have attached any necessary supporting documents, such as medical certificates or any other relevant documentation, to substantiate my request. I assure you that I will provide any additional information or documentation required to support my leave application promptly.\n",
            "\n",
            "I would be grateful if you could consider my request and grant me the leave of absence for the specified period. I assure you that I will make every effort to ensure a smooth transition during my absence and will promptly resume my studies upon my return.\n",
            "\n",
            "Thank you for your understanding and support in this matter. I greatly appreciate your attention to my request. Should you require any further information or have any questions, please do not hesitate to contact me at [phone number] or [email address].\n",
            "\n",
            "Yours sincerely,\n",
            "\n",
            "[Your Name]\n"
          ]
        }
      ]
    },
    {
      "cell_type": "markdown",
      "source": [
        "# **2.**"
      ],
      "metadata": {
        "id": "kpKJmyHQH8wS"
      }
    },
    {
      "cell_type": "code",
      "source": [
        "prompt=\"\"\"Write an essay on Independence day\n",
        "the essay should be in point wise with 20 lines for clear understanding\"\"\"\n",
        "res=talk(prompt)\n",
        "print(res)"
      ],
      "metadata": {
        "id": "PryaUcpz6_2t",
        "colab": {
          "base_uri": "https://localhost:8080/"
        },
        "outputId": "a5578d8f-c107-4b76-f60c-045a932fbe1d"
      },
      "execution_count": null,
      "outputs": [
        {
          "output_type": "stream",
          "name": "stdout",
          "text": [
            "Independence Day is a significant national holiday celebrated in many countries around the world. It commemorates the day when a nation gained freedom from colonial rule or foreign domination. This essay will discuss the importance and significance of Independence Day in a point-wise manner, with 20 lines for clear understanding.\n",
            "\n",
            "1. Independence Day is a day of immense historical importance as it marks the birth of a nation. It symbolizes the struggle and sacrifices made by the freedom fighters to secure independence for their country.\n",
            "2. It is a day to honor and remember the brave men and women who fought for the freedom and sovereignty of their nation. Their courage and determination inspire generations to value and protect their independence.\n",
            "3. Independence Day is a time for national unity and pride. It brings people from diverse backgrounds together to celebrate their shared heritage and love for their country.\n",
            "4. On this day, citizens express their patriotism by displaying the national flag, singing the national anthem, and participating in various cultural and patriotic activities.\n",
            "5. Independence Day serves as a reminder of the importance of democracy and the rights and freedoms that citizens enjoy in a free nation.\n",
            "6. It is an occasion to reflect on the progress made by the country since gaining independence and to acknowledge the challenges that lie ahead.\n",
            "7. Independence Day celebrations often include parades, fireworks, and cultural performances that showcase the country's rich history and traditions.\n",
            "8. It is a day to pay tribute to the leaders and visionaries who played a pivotal role in shaping the nation and its values.\n",
            "9. Independence Day is an opportunity to educate younger generations about the significance of freedom and the sacrifices made by their ancestors.\n",
            "10. It instills a sense of responsibility and duty towards the nation, encouraging citizens to actively participate in its development and progress.\n",
            "11. Independence Day celebrations often involve speeches by political leaders, highlighting the achievements and goals of the nation.\n",
            "12. It is a time to remember the struggles faced by the nation and to appreciate the peace and stability that independence has brought.\n",
            "13. Independence Day is a chance to promote national unity and harmony, transcending differences of caste, creed, and religion.\n",
            "14. It is a day to honor the armed forces and their role in safeguarding the nation's independence and security.\n",
            "15. Independence Day celebrations often include cultural programs that showcase the diversity and richness of the country's heritage.\n",
            "16. It is an occasion to express gratitude towards the freedom fighters and their sacrifices, ensuring that their legacy lives on.\n",
            "17. Independence Day serves as a reminder of the importance of preserving and protecting the nation's independence for future generations.\n",
            "18. It is a time to reflect on the values and principles that the nation stands for, such as justice, equality, and freedom.\n",
            "19. Independence Day celebrations often include flag hoisting ceremonies, symbolizing the nation's sovereignty and independence.\n",
            "20. It is a day to celebrate the spirit of freedom and to renew the commitment towards building a prosperous and inclusive nation.\n",
            "\n",
            "In conclusion, Independence Day holds immense significance as it commemorates the hard-fought freedom of a nation. It is a time for reflection, unity, and celebration, reminding citizens of their responsibilities towards their country. Independence Day serves as a constant reminder of the sacrifices made by the freedom fighters and the importance of preserving and protecting the nation's independence for future generations.\n"
          ]
        }
      ]
    }
  ]
}