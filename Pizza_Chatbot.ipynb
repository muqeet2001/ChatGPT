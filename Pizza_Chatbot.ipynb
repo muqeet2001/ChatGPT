{
  "nbformat": 4,
  "nbformat_minor": 0,
  "metadata": {
    "colab": {
      "provenance": []
    },
    "kernelspec": {
      "name": "python3",
      "display_name": "Python 3"
    },
    "language_info": {
      "name": "python"
    }
  },
  "cells": [
    {
      "cell_type": "markdown",
      "source": [
        "# **Pizza ChatBot**"
      ],
      "metadata": {
        "id": "-4ntaZwi6QnK"
      }
    },
    {
      "cell_type": "code",
      "source": [
        "! pip install openai\n"
      ],
      "metadata": {
        "colab": {
          "base_uri": "https://localhost:8080/"
        },
        "id": "EqYggLp3z84i",
        "outputId": "9f5b5e93-14ac-4542-b418-9a055b06de79"
      },
      "execution_count": 1,
      "outputs": [
        {
          "output_type": "stream",
          "name": "stdout",
          "text": [
            "Collecting openai\n",
            "  Downloading openai-0.27.9-py3-none-any.whl (75 kB)\n",
            "\u001b[?25l     \u001b[90m━━━━━━━━━━━━━━━━━━━━━━━━━━━━━━━━━━━━━━━━\u001b[0m \u001b[32m0.0/75.5 kB\u001b[0m \u001b[31m?\u001b[0m eta \u001b[36m-:--:--\u001b[0m\r\u001b[2K     \u001b[90m━━━━━━━━━━━━━━━━━━━━━━━━━━━━━━━━━━━━━━━━\u001b[0m \u001b[32m75.5/75.5 kB\u001b[0m \u001b[31m3.0 MB/s\u001b[0m eta \u001b[36m0:00:00\u001b[0m\n",
            "\u001b[?25hRequirement already satisfied: requests>=2.20 in /usr/local/lib/python3.10/dist-packages (from openai) (2.31.0)\n",
            "Requirement already satisfied: tqdm in /usr/local/lib/python3.10/dist-packages (from openai) (4.66.1)\n",
            "Requirement already satisfied: aiohttp in /usr/local/lib/python3.10/dist-packages (from openai) (3.8.5)\n",
            "Requirement already satisfied: charset-normalizer<4,>=2 in /usr/local/lib/python3.10/dist-packages (from requests>=2.20->openai) (3.2.0)\n",
            "Requirement already satisfied: idna<4,>=2.5 in /usr/local/lib/python3.10/dist-packages (from requests>=2.20->openai) (3.4)\n",
            "Requirement already satisfied: urllib3<3,>=1.21.1 in /usr/local/lib/python3.10/dist-packages (from requests>=2.20->openai) (2.0.4)\n",
            "Requirement already satisfied: certifi>=2017.4.17 in /usr/local/lib/python3.10/dist-packages (from requests>=2.20->openai) (2023.7.22)\n",
            "Requirement already satisfied: attrs>=17.3.0 in /usr/local/lib/python3.10/dist-packages (from aiohttp->openai) (23.1.0)\n",
            "Requirement already satisfied: multidict<7.0,>=4.5 in /usr/local/lib/python3.10/dist-packages (from aiohttp->openai) (6.0.4)\n",
            "Requirement already satisfied: async-timeout<5.0,>=4.0.0a3 in /usr/local/lib/python3.10/dist-packages (from aiohttp->openai) (4.0.3)\n",
            "Requirement already satisfied: yarl<2.0,>=1.0 in /usr/local/lib/python3.10/dist-packages (from aiohttp->openai) (1.9.2)\n",
            "Requirement already satisfied: frozenlist>=1.1.1 in /usr/local/lib/python3.10/dist-packages (from aiohttp->openai) (1.4.0)\n",
            "Requirement already satisfied: aiosignal>=1.1.2 in /usr/local/lib/python3.10/dist-packages (from aiohttp->openai) (1.3.1)\n",
            "Installing collected packages: openai\n",
            "Successfully installed openai-0.27.9\n"
          ]
        }
      ]
    },
    {
      "cell_type": "code",
      "source": [
        "import openai"
      ],
      "metadata": {
        "id": "HQmPVkgNz-WB"
      },
      "execution_count": 2,
      "outputs": []
    },
    {
      "cell_type": "code",
      "source": [
        "openai.api_key =\"xxxxxxxxxxxxxxxxxxxxxxxxxxxxxxxxxxxxxxxxxxxxxxxx\""
      ],
      "metadata": {
        "id": "hN7H0schz-Zu"
      },
      "execution_count": 14,
      "outputs": []
    },
    {
      "cell_type": "code",
      "source": [
        "def talk(messages, model=\"gpt-3.5-turbo\", temperature=0):\n",
        "    response = openai.ChatCompletion.create(\n",
        "        model=model,\n",
        "        messages=messages,\n",
        "        temperature=temperature, # this is the degree of randomness of the model's output\n",
        "    )\n",
        "#     print(str(response.choices[0].message))\n",
        "    return response.choices[0].message[\"content\"]"
      ],
      "metadata": {
        "id": "5UHH5uTYz-jn"
      },
      "execution_count": 15,
      "outputs": []
    },
    {
      "cell_type": "code",
      "execution_count": 16,
      "metadata": {
        "id": "Xe2zMCb3zguG"
      },
      "outputs": [],
      "source": [
        "def collect_messages(_):\n",
        "    prompt = inp.value_input\n",
        "    inp.value = ''\n",
        "    context.append({'role':'user', 'content':f\"{prompt}\"})\n",
        "    response = talk(context)\n",
        "    context.append({'role':'assistant', 'content':f\"{response}\"})\n",
        "    panels.append(\n",
        "        pn.Row('User:', pn.pane.Markdown(prompt, width=600)))\n",
        "    panels.append(\n",
        "        pn.Row('Assistant:', pn.pane.Markdown(response, width=600, style={'background-color': '#F6F6F6'})))\n",
        "\n",
        "    return pn.Column(*panels)\n"
      ]
    },
    {
      "cell_type": "code",
      "source": [
        "input_ = \"\"\"You are OrderBot, an automated service to collect orders for a pizza restaurant \\\n",
        "first provide menu to the customer\"\"\"\n",
        "print(input_)"
      ],
      "metadata": {
        "colab": {
          "base_uri": "https://localhost:8080/"
        },
        "id": "BwwCjftDQoLN",
        "outputId": "1a29ea50-cbb2-4307-ee25-216df030c6ac"
      },
      "execution_count": 21,
      "outputs": [
        {
          "output_type": "stream",
          "name": "stdout",
          "text": [
            "You are OrderBot, an automated service to collect orders for a pizza restaurantfirst provide menu to the customer\n"
          ]
        }
      ]
    },
    {
      "cell_type": "code",
      "source": [
        "import panel as pn  # GUI\n",
        "pn.extension()\n",
        "\n",
        "panels = [] # collect display\n",
        "\n",
        "context = [ {'role':'system', 'content':\"\"\"\n",
        "You are an OrderBot, an automated service with the only task of collecting orders for a pizza restaurant. \\\n",
        "Take your time to think at each step before moving to the next step.\n",
        "Follow the below steps:\n",
        "\n",
        "Step 1: Greet the customer and talk in a polite manner by introducing yourself. \\\n",
        "Step 2: Provide the menu(including drinks) with prices in horizontal table(rows and columns-4 columns for pizza and 2 columns for drink) format and collect the order from customer. \\\n",
        "Step 3: Ask for how many pieces and sizes if required. \\\n",
        "Step 4: Also ask customer that they want to add anything else. \\\n",
        "Step 5: Make sure that you confirm order. \\\n",
        "Step 6: Ask for pickup or delivery. \\\n",
        "Step 7: collect the payment. \\\n",
        "Step 8: for delivery first ask address and then payment. \\\n",
        "for delivery payment add 30rs as delivery charges. \\\n",
        "for delivery payments the options are Cash on Delivery or online payment. \\\n",
        "delivery online payment can be done in the following way: \\\n",
        "first ask phone number of the customer,that number need to be linked with any of the online payment app like Paytm,PhonePe,Gpay,AmazonPay,BharatPe \\\n",
        "and tell the customer that you will send a link to the customer number,the link will redirect you to your online payment apps. \\\n",
        "\n",
        "the rates are in Rs \\\n",
        "menu details are below: \\\n",
        "Margherita Pizza\t99,199,399 \\\n",
        "Cheese n Corn Pizza\t169,309,499 \\\n",
        "Cheese n Tomato Pizza\t169,309,499 \\\n",
        "Chicken Golden Delight Pizza 249,459,699 \\\n",
        "Non Veg Supreme Pizza\t319,579,839 \\\n",
        "Chicken Pepperoni Pizza\t319,579,839 \\\n",
        "\n",
        "Drinks: \\\n",
        "Soda 60 \\\n",
        "Coke 90 \\\n",
        "Ice tea 120 \\\n",
        "Mikshake 150 \\\n",
        "\n",
        "always mention the amount with the items for customer satisfaction.\n",
        "\n",
        "\"\"\"},\n",
        "]\n",
        "\n",
        "inp = pn.widgets.TextInput(value=\"Hi\", placeholder='Enter text here…')\n",
        "button_conversation = pn.widgets.Button(name=\"Chat!\")\n",
        "\n",
        "interactive_conversation = pn.bind(collect_messages, button_conversation)\n",
        "\n",
        "dashboard = pn.Column(\n",
        "    inp,\n",
        "    pn.Row(button_conversation),\n",
        "    pn.panel(interactive_conversation, loading_indicator=True, height=900),\n",
        ")\n",
        "\n",
        "dashboard"
      ],
      "metadata": {
        "id": "EC_J5koFzoAQ"
      },
      "execution_count": null,
      "outputs": []
    },
    {
      "cell_type": "code",
      "source": [],
      "metadata": {
        "id": "ybhJP5rw4C_8"
      },
      "execution_count": null,
      "outputs": []
    },
    {
      "cell_type": "code",
      "source": [],
      "metadata": {
        "id": "0r1XezA3MtMS"
      },
      "execution_count": null,
      "outputs": []
    },
    {
      "cell_type": "code",
      "source": [],
      "metadata": {
        "id": "g7FVRlCCMtRM"
      },
      "execution_count": null,
      "outputs": []
    }
  ]
}